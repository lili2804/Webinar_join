{
 "cells": [
  {
   "cell_type": "code",
   "execution_count": 51,
   "id": "828599c0",
   "metadata": {},
   "outputs": [],
   "source": [
    "# Импорт модулей\n",
    "import pandas as pd\n",
    "import os\n",
    "import glob\n",
    "import numpy as np\n",
    "import scipy.stats as stats"
   ]
  },
  {
   "cell_type": "code",
   "execution_count": 52,
   "id": "fddc55e5",
   "metadata": {
    "scrolled": false
   },
   "outputs": [],
   "source": [
    "# Сменим директорию\n",
    "os.chdir(r\"C:\\\\Users\\\\Admin\\\\Desktop\\\\SQL уроки\\\\Новые отчеты в базу\\\\temp\\\\\")"
   ]
  },
  {
   "cell_type": "code",
   "execution_count": 53,
   "id": "4102a2f7",
   "metadata": {},
   "outputs": [],
   "source": [
    "# Список файлов Excel для объединения\n",
    "xl_files = glob.glob('*.xlsx')"
   ]
  },
  {
   "cell_type": "code",
   "execution_count": 54,
   "id": "1f444042",
   "metadata": {},
   "outputs": [],
   "source": [
    "# Читаем каждую книгу объединяем все листы в один датафрейм\n",
    "combined = pd.DataFrame()"
   ]
  },
  {
   "cell_type": "code",
   "execution_count": null,
   "id": "5487bc6a",
   "metadata": {},
   "outputs": [],
   "source": [
    "# Цикл по файлам\n",
    "for xl_file in xl_files:\n",
    "    # Создать объект ExcelFile\n",
    "    xl_file_obj = pd.ExcelFile(xl_file)\n",
    "    # Цикл по листам\n",
    "    for sheet_name in xl_file_obj.sheet_names:\n",
    "        # Прочитать нужный лист книги\n",
    "        data = pd.read_excel(xl_file_obj,\n",
    "                             sheet_name=\"Участники\")\n",
    "        # Создадать столбец с названием книги\n",
    "        data['workbook'] = xl_file\n",
    "        # Создать столбец с названием листа\n",
    "        data['sheet'] = sheet_name\n",
    "        # Дописать в датафрейм combined\n",
    "        #combined = combined.concat(data)\n",
    "        combined = pd.concat([combined, data], axis=0).dropna(subset=['Специальность']).drop_duplicates(subset=['Email'])"
   ]
  },
  {
   "cell_type": "code",
   "execution_count": null,
   "id": "f916145b",
   "metadata": {},
   "outputs": [],
   "source": [
    "combined.to_excel('sales_combined_2.xlsx',\n",
    "                  index=False)"
   ]
  },
  {
   "cell_type": "code",
   "execution_count": null,
   "id": "638da99f",
   "metadata": {},
   "outputs": [],
   "source": []
  }
 ],
 "metadata": {
  "kernelspec": {
   "display_name": "Python 3 (ipykernel)",
   "language": "python",
   "name": "python3"
  },
  "language_info": {
   "codemirror_mode": {
    "name": "ipython",
    "version": 3
   },
   "file_extension": ".py",
   "mimetype": "text/x-python",
   "name": "python",
   "nbconvert_exporter": "python",
   "pygments_lexer": "ipython3",
   "version": "3.10.9"
  }
 },
 "nbformat": 4,
 "nbformat_minor": 5
}
